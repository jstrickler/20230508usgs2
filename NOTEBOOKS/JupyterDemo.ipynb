{
 "cells": [
  {
   "cell_type": "markdown",
   "metadata": {},
   "source": [
    "<img src=\"images/jupiter.png\" width=\"200\" height=\"200\"/>"
   ]
  },
  {
   "cell_type": "markdown",
   "metadata": {},
   "source": [
    "# Using Jupyter"
   ]
  },
  {
   "cell_type": "markdown",
   "metadata": {},
   "source": [
    "## Markdown cells\n",
    "\n",
    "This is a Markdown (documentation) cell, for adding documentation and comments to a notebook. It uses Markdown, a text styling language, as well as HTML. When a Markdown cell is \"run\", it converts the contents of the cell into HTML, which is then rendered and displayed.\n",
    "\n",
    "Double-click on a Markdown cell to see its source.\n",
    "\n",
    "This is **more** _markdown_. Surround text with double asterisk for bold, or single underline for italic. \n",
    "\n",
    "See the Notebook named **JupyterMarkdownGuide** for details. "
   ]
  },
  {
   "cell_type": "markdown",
   "metadata": {},
   "source": [
    "###  Code Cells\n",
    "\n",
    "Code cells contain Python (or other language) code. When a code cell is run, it executes the code, and shows the output below the cell. The output is retained unless you explicitly clear it. "
   ]
  },
  {
   "cell_type": "code",
   "execution_count": null,
   "metadata": {},
   "outputs": [],
   "source": [
    "with open('../DATA/mary.txt') as mary_in:\n",
    "    contents = mary_in.read()"
   ]
  },
  {
   "cell_type": "code",
   "execution_count": 17,
   "metadata": {},
   "outputs": [],
   "source": [
    "contents[:30]"
   ]
  },
  {
   "cell_type": "code",
   "execution_count": 6,
   "metadata": {},
   "outputs": [
    {
     "name": "stdout",
     "output_type": "stream",
     "text": [
      "0\n",
      "1\n",
      "2\n"
     ]
    }
   ],
   "source": [
    "for i in range(3):\n",
    "    print(i)"
   ]
  },
  {
   "cell_type": "code",
   "execution_count": null,
   "metadata": {},
   "outputs": [],
   "source": []
  },
  {
   "cell_type": "code",
   "execution_count": 7,
   "metadata": {},
   "outputs": [
    {
     "name": "stdout",
     "output_type": "stream",
     "text": [
      "wombat\n"
     ]
    }
   ],
   "source": [
    "print(\"wombat\")"
   ]
  },
  {
   "cell_type": "code",
   "execution_count": 5,
   "metadata": {},
   "outputs": [],
   "source": [
    "x = 3"
   ]
  },
  {
   "cell_type": "code",
   "execution_count": null,
   "metadata": {},
   "outputs": [],
   "source": []
  },
  {
   "cell_type": "markdown",
   "metadata": {},
   "source": [
    "## It's all one program\n",
    "\n",
    "All code is run in the same instance of the Python interpreter, so that objects created in one cell are available to other cells, as long as the first cell has been run."
   ]
  },
  {
   "cell_type": "code",
   "execution_count": 8,
   "metadata": {},
   "outputs": [],
   "source": [
    "from datetime import date as Date"
   ]
  },
  {
   "cell_type": "code",
   "execution_count": 9,
   "metadata": {},
   "outputs": [],
   "source": [
    "then = Date(2011,5,22)"
   ]
  },
  {
   "cell_type": "code",
   "execution_count": 11,
   "metadata": {},
   "outputs": [
    {
     "name": "stdout",
     "output_type": "stream",
     "text": [
      "2011\n"
     ]
    }
   ],
   "source": [
    "print(then.year)"
   ]
  },
  {
   "cell_type": "code",
   "execution_count": 12,
   "metadata": {},
   "outputs": [],
   "source": [
    "%pinfo then"
   ]
  },
  {
   "cell_type": "markdown",
   "metadata": {},
   "source": [
    "## Getting help\n",
    "Putting a ? before (or after) any object displays help for that object. Using ?? will add more detailed help, if available. (The output will be in a separate pane at the bottom of the browser window)."
   ]
  },
  {
   "cell_type": "code",
   "execution_count": null,
   "metadata": {},
   "outputs": [],
   "source": [
    "i?"
   ]
  },
  {
   "cell_type": "code",
   "execution_count": null,
   "metadata": {},
   "outputs": [],
   "source": [
    "Date??"
   ]
  },
  {
   "cell_type": "markdown",
   "metadata": {
    "collapsed": true
   },
   "source": [
    "## Using Python's scientific libraries\n",
    "For typical use of Python's scientific libraries, put the following at the top of the notebook in a code cell:\n",
    "\n",
    "<pre>\n",
    "import pandas as pd\n",
    "import numpy as np\n",
    "import matplotlib.pyplot as plt\n",
    "</pre>\n",
    "\n",
    "Other  modules and packages should be included as needed.\n"
   ]
  },
  {
   "cell_type": "code",
   "execution_count": 15,
   "metadata": {},
   "outputs": [],
   "source": [
    "# %load imports.py\n",
    "import numpy as np\n",
    "import scipy as sp\n",
    "import pandas as pd\n",
    "import matplotlib.pyplot as plt\n",
    "import matplotlib as mpl\n",
    "%matplotlib inline\n",
    "import seaborn as sns\n",
    "sns.set()\n",
    "\n"
   ]
  },
  {
   "cell_type": "markdown",
   "metadata": {},
   "source": [
    "## Inline plotting\n",
    "After matplotlib is imported, use  \n",
    "the **%matplotlib inline** magic to display figures  \n",
    "as part of the notebook. Otherwise, they are  \n",
    "displayed in popup windows.   "
   ]
  },
  {
   "cell_type": "code",
   "execution_count": 16,
   "metadata": {},
   "outputs": [
    {
     "data": {
      "text/plain": [
       "[<matplotlib.lines.Line2D at 0x197dc118220>]"
      ]
     },
     "execution_count": 16,
     "metadata": {},
     "output_type": "execute_result"
    },
    {
     "data": {
      "image/png": "[encoded data removed]",
      "text/plain": [
       "<Figure size 432x288 with 1 Axes>"
      ]
     },
     "metadata": {
      "needs_background": "light"
     },
     "output_type": "display_data"
    }
   ],
   "source": [
    "%matplotlib inline\n",
    "values = np.random.randint(1, 100, 50)\n",
    "plt.plot(values)"
   ]
  },
  {
   "cell_type": "markdown",
   "metadata": {},
   "source": [
    "## Using HTML\n",
    "\n",
    "Since Markdown is converted to HTML, any actual HTML in a Markdown cell is used. \n",
    "\n",
    "<ul><li>red</li><li>purple</li><li>orange</li></ul>\n",
    "<br/>\n",
    "<hr/>\n",
    "Hello\n",
    "<hr/>"
   ]
  },
  {
   "cell_type": "markdown",
   "metadata": {},
   "source": [
    "## Magics\n",
    "\n",
    "iPython and Jupyter notebooks have _line magics_, which are line-oriented. Many of them execute commands or turn iPython settings on and off. \n",
    "\n",
    "Jupyter has _cell magics_, which apply to the entire cell. "
   ]
  },
  {
   "cell_type": "code",
   "execution_count": null,
   "metadata": {},
   "outputs": [],
   "source": [
    "%lsmagic"
   ]
  },
  {
   "cell_type": "code",
   "execution_count": null,
   "metadata": {},
   "outputs": [],
   "source": [
    "!hostname\n",
    "h = !hostname\n",
    "print(h)"
   ]
  },
  {
   "cell_type": "markdown",
   "metadata": {},
   "source": [
    "## Running external Python scripts\n",
    "\n",
    "Use the **%run** magic to launch an external Python script"
   ]
  },
  {
   "cell_type": "code",
   "execution_count": 19,
   "metadata": {},
   "outputs": [
    {
     "data": {
      "text/plain": [
       "<Figure size 432x288 with 0 Axes>"
      ]
     },
     "metadata": {},
     "output_type": "display_data"
    }
   ],
   "source": [
    "%run ../EXAMPLES/my_vars.py"
   ]
  },
  {
   "cell_type": "code",
   "execution_count": 20,
   "metadata": {},
   "outputs": [
    {
     "name": "stdout",
     "output_type": "stream",
     "text": [
      "Susan\n",
      "wombat\n",
      "Eastern Racer\n"
     ]
    }
   ],
   "source": [
    "print(user_name)\n",
    "print(animal)\n",
    "print(snake)"
   ]
  },
  {
   "cell_type": "markdown",
   "metadata": {},
   "source": [
    "## Loading scripts into cells\n",
    "\n",
    "Use the **%load** magic to read a separate Python script into the current cell. After it's loaded, it can be run like any other cell.\n",
    "\n",
    "Once the code is loaded into the cell, the **%load** command is commented out"
   ]
  },
  {
   "cell_type": "code",
   "execution_count": 22,
   "metadata": {},
   "outputs": [
    {
     "name": "stdout",
     "output_type": "stream",
     "text": [
      "           The Tyger\n",
      "\n",
      "Tyger! Tyger! burning bright\n",
      "In the forests of the night,\n",
      "What immortal hand or eye\n",
      "Could frame thy fearful symmetry?\n",
      "\n",
      "In what distant deeps or skies\n",
      "Burnt the fire of thine eyes?\n",
      "On what wings dare he aspire?\n",
      "What the hand dare seize the fire?\n",
      "\n",
      "And what shoulder, & what art,\n",
      "Could twist the sinews of thy heart?\n",
      "And when thy heart began to beat,\n",
      "What dread hand? & what dread feet?\n",
      "\n",
      "What the hammer? what the chain?\n",
      "In what furnace was thy brain?\n",
      "What the anvil? what dread grasp\n",
      "Dare its deadly terrors clasp?\n",
      "\n",
      "When the stars threw down their spears\n",
      "And water'd heaven with their tears,\n",
      "Did he smile his work to see?\n",
      "Did he who made the Lamb make thee?\n",
      "\n",
      "Tyger! Tyger! burning bright\n",
      "In the forests of the night,\n",
      "What immortal hand or eye\n",
      "Dare frame thy fearful symmetry?\n",
      "\n",
      "                    by William Blake\n"
     ]
    }
   ],
   "source": [
    "# %load ../EXAMPLES/read_tyger.py\n",
    "#!/usr/bin/env python\n",
    "\n",
    "with open(\"../DATA/tyger.txt\", \"r\") as tyger_in:  # <1>\n",
    "    for line in tyger_in:  # <2>\n",
    "        print(line, end='')  # <3>\n"
   ]
  },
  {
   "cell_type": "code",
   "execution_count": null,
   "metadata": {},
   "outputs": [],
   "source": [
    "%load imports.py"
   ]
  },
  {
   "cell_type": "markdown",
   "metadata": {},
   "source": [
    "## Using LaTeX\n",
    "\n",
    "Markdown cells can render LaTeX via MathJax. Put the LaTeX code inside a pair of dollar signs: **\\$\\rho\\$:**\n",
    "\n",
    "$\\rho$, $\\rho$, $\\rho$ your boat"
   ]
  },
  {
   "cell_type": "markdown",
   "metadata": {},
   "source": [
    "$\\mathbf{V}_1 \\times \\mathbf{V}_2 =  \\begin{vmatrix} \\\n",
    "\\mathbf{i} & \\mathbf{j} & \\mathbf{k}  \\\\\n",
    "\\frac{\\partial X}{\\partial u} & \\frac{\\partial Y}{\\partial u} & 0\\\\\n",
    "\\frac{\\partial X}{\\partial v} & \\frac{\\partial Y}{\\partial v} & 0\\\\\n",
    "\\end{vmatrix}$ \n",
    "\n",
    "$\\left( \\sum_{k=1}^n a_k b_k \\right)^2 \\leq \\left( \\sum_{k=1}^n a_k^2 \\right) \\left( \\sum_{k=1}^n b_k^2 \\right)$"
   ]
  },
  {
   "cell_type": "markdown",
   "metadata": {},
   "source": [
    "### Can you read this limerick?"
   ]
  },
  {
   "cell_type": "markdown",
   "metadata": {},
   "source": [
    "\n",
    "$\\frac{12 + 144  + 20 + 3\\sqrt{4}}{7} + (5 * 11) = 9^2 + 0$ <br/>\n",
    "\n",
    "<i>See text of limerick at the bottom of this notebook</i>\n",
    "\n"
   ]
  },
  {
   "cell_type": "markdown",
   "metadata": {},
   "source": [
    "## Getting info"
   ]
  },
  {
   "cell_type": "code",
   "execution_count": 23,
   "metadata": {
    "collapsed": true
   },
   "outputs": [
    {
     "name": "stdout",
     "output_type": "stream",
     "text": [
      ".. _statsrefmanual:\n",
      "\n",
      "==========================================\n",
      "Statistical functions (:mod:`scipy.stats`)\n",
      "==========================================\n",
      "\n",
      ".. currentmodule:: scipy.stats\n",
      "\n",
      "This module contains a large number of probability distributions,\n",
      "summary and frequency statistics, correlation functions and statistical\n",
      "tests, masked statistics, kernel density estimation, quasi-Monte Carlo\n",
      "functionality, and more.\n",
      "\n",
      "Statistics is a very large area, and there are topics that are out of scope\n",
      "for SciPy and are covered by other packages. Some of the most important ones\n",
      "are:\n",
      "\n",
      "- `statsmodels <https://www.statsmodels.org/stable/index.html>`__:\n",
      "  regression, linear models, time series analysis, extensions to topics\n",
      "  also covered by ``scipy.stats``.\n",
      "- `Pandas <https://pandas.pydata.org/>`__: tabular data, time series\n",
      "  functionality, interfaces to other statistical languages.\n",
      "- `PyMC <https://docs.pymc.io/>`__: Bayesian statistical\n",
      "  modeling, probabilistic machine learning.\n",
      "- `scikit-learn <https://scikit-learn.org/>`__: classification, regression,\n",
      "  model selection.\n",
      "- `Seaborn <https://seaborn.pydata.org/>`__: statistical data visualization.\n",
      "- `rpy2 <https://rpy2.github.io/>`__: Python to R bridge.\n",
      "\n",
      "\n",
      "Probability distributions\n",
      "=========================\n",
      "\n",
      "Each univariate distribution is an instance of a subclass of `rv_continuous`\n",
      "(`rv_discrete` for discrete distributions):\n",
      "\n",
      ".. autosummary::\n",
      "   :toctree: generated/\n",
      "\n",
      "   rv_continuous\n",
      "   rv_discrete\n",
      "   rv_histogram\n",
      "\n",
      "Continuous distributions\n",
      "------------------------\n",
      "\n",
      ".. autosummary::\n",
      "   :toctree: generated/\n",
      "\n",
      "   alpha             -- Alpha\n",
      "   anglit            -- Anglit\n",
      "   arcsine           -- Arcsine\n",
      "   argus             -- Argus\n",
      "   beta              -- Beta\n",
      "   betaprime         -- Beta Prime\n",
      "   bradford          -- Bradford\n",
      "   burr              -- Burr (Type III)\n",
      "   burr12            -- Burr (Type XII)\n",
      "   cauchy            -- Cauchy\n",
      "   chi               -- Chi\n",
      "   chi2              -- Chi-squared\n",
      "   cosine            -- Cosine\n",
      "   crystalball       -- Crystalball\n",
      "   dgamma            -- Double Gamma\n",
      "   dweibull          -- Double Weibull\n",
      "   erlang            -- Erlang\n",
      "   expon             -- Exponential\n",
      "   exponnorm         -- Exponentially Modified Normal\n",
      "   exponweib         -- Exponentiated Weibull\n",
      "   exponpow          -- Exponential Power\n",
      "   f                 -- F (Snecdor F)\n",
      "   fatiguelife       -- Fatigue Life (Birnbaum-Saunders)\n",
      "   fisk              -- Fisk\n",
      "   foldcauchy        -- Folded Cauchy\n",
      "   foldnorm          -- Folded Normal\n",
      "   genlogistic       -- Generalized Logistic\n",
      "   gennorm           -- Generalized normal\n",
      "   genpareto         -- Generalized Pareto\n",
      "   genexpon          -- Generalized Exponential\n",
      "   genextreme        -- Generalized Extreme Value\n",
      "   gausshyper        -- Gauss Hypergeometric\n",
      "   gamma             -- Gamma\n",
      "   gengamma          -- Generalized gamma\n",
      "   genhalflogistic   -- Generalized Half Logistic\n",
      "   genhyperbolic     -- Generalized Hyperbolic\n",
      "   geninvgauss       -- Generalized Inverse Gaussian\n",
      "   gibrat            -- Gibrat\n",
      "   gompertz          -- Gompertz (Truncated Gumbel)\n",
      "   gumbel_r          -- Right Sided Gumbel, Log-Weibull, Fisher-Tippett, Extreme Value Type I\n",
      "   gumbel_l          -- Left Sided Gumbel, etc.\n",
      "   halfcauchy        -- Half Cauchy\n",
      "   halflogistic      -- Half Logistic\n",
      "   halfnorm          -- Half Normal\n",
      "   halfgennorm       -- Generalized Half Normal\n",
      "   hypsecant         -- Hyperbolic Secant\n",
      "   invgamma          -- Inverse Gamma\n",
      "   invgauss          -- Inverse Gaussian\n",
      "   invweibull        -- Inverse Weibull\n",
      "   johnsonsb         -- Johnson SB\n",
      "   johnsonsu         -- Johnson SU\n",
      "   kappa4            -- Kappa 4 parameter\n",
      "   kappa3            -- Kappa 3 parameter\n",
      "   ksone             -- Distribution of Kolmogorov-Smirnov one-sided test statistic\n",
      "   kstwo             -- Distribution of Kolmogorov-Smirnov two-sided test statistic\n",
      "   kstwobign         -- Limiting Distribution of scaled Kolmogorov-Smirnov two-sided test statistic.\n",
      "   laplace           -- Laplace\n",
      "   laplace_asymmetric    -- Asymmetric Laplace\n",
      "   levy              -- Levy\n",
      "   levy_l\n",
      "   levy_stable\n",
      "   logistic          -- Logistic\n",
      "   loggamma          -- Log-Gamma\n",
      "   loglaplace        -- Log-Laplace (Log Double Exponential)\n",
      "   lognorm           -- Log-Normal\n",
      "   loguniform        -- Log-Uniform\n",
      "   lomax             -- Lomax (Pareto of the second kind)\n",
      "   maxwell           -- Maxwell\n",
      "   mielke            -- Mielke's Beta-Kappa\n",
      "   moyal             -- Moyal\n",
      "   nakagami          -- Nakagami\n",
      "   ncx2              -- Non-central chi-squared\n",
      "   ncf               -- Non-central F\n",
      "   nct               -- Non-central Student's T\n",
      "   norm              -- Normal (Gaussian)\n",
      "   norminvgauss      -- Normal Inverse Gaussian\n",
      "   pareto            -- Pareto\n",
      "   pearson3          -- Pearson type III\n",
      "   powerlaw          -- Power-function\n",
      "   powerlognorm      -- Power log normal\n",
      "   powernorm         -- Power normal\n",
      "   rdist             -- R-distribution\n",
      "   rayleigh          -- Rayleigh\n",
      "   rice              -- Rice\n",
      "   recipinvgauss     -- Reciprocal Inverse Gaussian\n",
      "   semicircular      -- Semicircular\n",
      "   skewcauchy        -- Skew Cauchy\n",
      "   skewnorm          -- Skew normal\n",
      "   studentized_range    -- Studentized Range\n",
      "   t                 -- Student's T\n",
      "   trapezoid         -- Trapezoidal\n",
      "   triang            -- Triangular\n",
      "   truncexpon        -- Truncated Exponential\n",
      "   truncnorm         -- Truncated Normal\n",
      "   truncweibull_min  -- Truncated minimum Weibull distribution\n",
      "   tukeylambda       -- Tukey-Lambda\n",
      "   uniform           -- Uniform\n",
      "   vonmises          -- Von-Mises (Circular)\n",
      "   vonmises_line     -- Von-Mises (Line)\n",
      "   wald              -- Wald\n",
      "   weibull_min       -- Minimum Weibull (see Frechet)\n",
      "   weibull_max       -- Maximum Weibull (see Frechet)\n",
      "   wrapcauchy        -- Wrapped Cauchy\n",
      "\n",
      "Multivariate distributions\n",
      "--------------------------\n",
      "\n",
      ".. autosummary::\n",
      "   :toctree: generated/\n",
      "\n",
      "   multivariate_normal    -- Multivariate normal distribution\n",
      "   matrix_normal          -- Matrix normal distribution\n",
      "   dirichlet              -- Dirichlet\n",
      "   wishart                -- Wishart\n",
      "   invwishart             -- Inverse Wishart\n",
      "   multinomial            -- Multinomial distribution\n",
      "   special_ortho_group    -- SO(N) group\n",
      "   ortho_group            -- O(N) group\n",
      "   unitary_group          -- U(N) group\n",
      "   random_correlation     -- random correlation matrices\n",
      "   multivariate_t         -- Multivariate t-distribution\n",
      "   multivariate_hypergeom -- Multivariate hypergeometric distribution\n",
      "\n",
      "Discrete distributions\n",
      "----------------------\n",
      "\n",
      ".. autosummary::\n",
      "   :toctree: generated/\n",
      "\n",
      "   bernoulli                -- Bernoulli\n",
      "   betabinom                -- Beta-Binomial\n",
      "   binom                    -- Binomial\n",
      "   boltzmann                -- Boltzmann (Truncated Discrete Exponential)\n",
      "   dlaplace                 -- Discrete Laplacian\n",
      "   geom                     -- Geometric\n",
      "   hypergeom                -- Hypergeometric\n",
      "   logser                   -- Logarithmic (Log-Series, Series)\n",
      "   nbinom                   -- Negative Binomial\n",
      "   nchypergeom_fisher       -- Fisher's Noncentral Hypergeometric\n",
      "   nchypergeom_wallenius    -- Wallenius's Noncentral Hypergeometric\n",
      "   nhypergeom               -- Negative Hypergeometric\n",
      "   planck                   -- Planck (Discrete Exponential)\n",
      "   poisson                  -- Poisson\n",
      "   randint                  -- Discrete Uniform\n",
      "   skellam                  -- Skellam\n",
      "   yulesimon                -- Yule-Simon\n",
      "   zipf                     -- Zipf (Zeta)\n",
      "   zipfian                  -- Zipfian\n",
      "\n",
      "An overview of statistical functions is given below.  Many of these functions\n",
      "have a similar version in `scipy.stats.mstats` which work for masked arrays.\n",
      "\n",
      "Summary statistics\n",
      "==================\n",
      "\n",
      ".. autosummary::\n",
      "   :toctree: generated/\n",
      "\n",
      "   describe          -- Descriptive statistics\n",
      "   gmean             -- Geometric mean\n",
      "   hmean             -- Harmonic mean\n",
      "   pmean             -- Power mean\n",
      "   kurtosis          -- Fisher or Pearson kurtosis\n",
      "   mode              -- Modal value\n",
      "   moment            -- Central moment\n",
      "   skew              -- Skewness\n",
      "   kstat             --\n",
      "   kstatvar          --\n",
      "   tmean             -- Truncated arithmetic mean\n",
      "   tvar              -- Truncated variance\n",
      "   tmin              --\n",
      "   tmax              --\n",
      "   tstd              --\n",
      "   tsem              --\n",
      "   variation         -- Coefficient of variation\n",
      "   find_repeats\n",
      "   trim_mean\n",
      "   gstd              -- Geometric Standard Deviation\n",
      "   iqr\n",
      "   sem\n",
      "   bayes_mvs\n",
      "   mvsdist\n",
      "   entropy\n",
      "   differential_entropy\n",
      "   median_abs_deviation\n",
      "\n",
      "Frequency statistics\n",
      "====================\n",
      "\n",
      ".. autosummary::\n",
      "   :toctree: generated/\n",
      "\n",
      "   cumfreq\n",
      "   percentileofscore\n",
      "   scoreatpercentile\n",
      "   relfreq\n",
      "\n",
      ".. autosummary::\n",
      "   :toctree: generated/\n",
      "\n",
      "   binned_statistic     -- Compute a binned statistic for a set of data.\n",
      "   binned_statistic_2d  -- Compute a 2-D binned statistic for a set of data.\n",
      "   binned_statistic_dd  -- Compute a d-D binned statistic for a set of data.\n",
      "\n",
      "Correlation functions\n",
      "=====================\n",
      "\n",
      ".. autosummary::\n",
      "   :toctree: generated/\n",
      "\n",
      "   f_oneway\n",
      "   alexandergovern\n",
      "   pearsonr\n",
      "   spearmanr\n",
      "   pointbiserialr\n",
      "   kendalltau\n",
      "   weightedtau\n",
      "   somersd\n",
      "   linregress\n",
      "   siegelslopes\n",
      "   theilslopes\n",
      "   multiscale_graphcorr\n",
      "\n",
      "Statistical tests\n",
      "=================\n",
      "\n",
      ".. autosummary::\n",
      "   :toctree: generated/\n",
      "\n",
      "   ttest_1samp\n",
      "   ttest_ind\n",
      "   ttest_ind_from_stats\n",
      "   ttest_rel\n",
      "   chisquare\n",
      "   cramervonmises\n",
      "   cramervonmises_2samp\n",
      "   power_divergence\n",
      "   kstest\n",
      "   ks_1samp\n",
      "   ks_2samp\n",
      "   epps_singleton_2samp\n",
      "   mannwhitneyu\n",
      "   tiecorrect\n",
      "   rankdata\n",
      "   ranksums\n",
      "   wilcoxon\n",
      "   kruskal\n",
      "   friedmanchisquare\n",
      "   brunnermunzel\n",
      "   combine_pvalues\n",
      "   jarque_bera\n",
      "   page_trend_test\n",
      "   tukey_hsd\n",
      "\n",
      ".. autosummary::\n",
      "   :toctree: generated/\n",
      "\n",
      "   ansari\n",
      "   bartlett\n",
      "   levene\n",
      "   shapiro\n",
      "   anderson\n",
      "   anderson_ksamp\n",
      "   binom_test\n",
      "   binomtest\n",
      "   fligner\n",
      "   median_test\n",
      "   mood\n",
      "   skewtest\n",
      "   kurtosistest\n",
      "   normaltest\n",
      "\n",
      "\n",
      "Quasi-Monte Carlo\n",
      "=================\n",
      "\n",
      ".. toctree::\n",
      "   :maxdepth: 4\n",
      "\n",
      "   stats.qmc\n",
      "\n",
      "Resampling Methods\n",
      "==================\n",
      "\n",
      ".. autosummary::\n",
      "   :toctree: generated/\n",
      "\n",
      "   bootstrap\n",
      "   permutation_test\n",
      "   monte_carlo_test\n",
      "\n",
      "Masked statistics functions\n",
      "===========================\n",
      "\n",
      ".. toctree::\n",
      "\n",
      "   stats.mstats\n",
      "\n",
      "\n",
      "Other statistical functionality\n",
      "===============================\n",
      "\n",
      "Transformations\n",
      "---------------\n",
      "\n",
      ".. autosummary::\n",
      "   :toctree: generated/\n",
      "\n",
      "   boxcox\n",
      "   boxcox_normmax\n",
      "   boxcox_llf\n",
      "   yeojohnson\n",
      "   yeojohnson_normmax\n",
      "   yeojohnson_llf\n",
      "   obrientransform\n",
      "   sigmaclip\n",
      "   trimboth\n",
      "   trim1\n",
      "   zmap\n",
      "   zscore\n",
      "   gzscore\n",
      "\n",
      "Statistical distances\n",
      "---------------------\n",
      "\n",
      ".. autosummary::\n",
      "   :toctree: generated/\n",
      "\n",
      "   wasserstein_distance\n",
      "   energy_distance\n",
      "\n",
      "Sampling\n",
      "--------\n",
      "\n",
      ".. toctree::\n",
      "   :maxdepth: 4\n",
      "\n",
      "   stats.sampling\n",
      "\n",
      "Random variate generation / CDF Inversion\n",
      "-----------------------------------------\n",
      "\n",
      ".. autosummary::\n",
      "   :toctree: generated/\n",
      "\n",
      "   rvs_ratio_uniforms\n",
      "\n",
      "Distribution Fitting\n",
      "--------------------\n",
      "\n",
      ".. autosummary::\n",
      "   :toctree: generated/\n",
      "\n",
      "   fit\n",
      "\n",
      "Circular statistical functions\n",
      "------------------------------\n",
      "\n",
      ".. autosummary::\n",
      "   :toctree: generated/\n",
      "\n",
      "   circmean\n",
      "   circvar\n",
      "   circstd\n",
      "\n",
      "Contingency table functions\n",
      "---------------------------\n",
      "\n",
      ".. autosummary::\n",
      "   :toctree: generated/\n",
      "\n",
      "   chi2_contingency\n",
      "   contingency.crosstab\n",
      "   contingency.expected_freq\n",
      "   contingency.margins\n",
      "   contingency.relative_risk\n",
      "   contingency.association\n",
      "   fisher_exact\n",
      "   barnard_exact\n",
      "   boschloo_exact\n",
      "\n",
      "Plot-tests\n",
      "----------\n",
      "\n",
      ".. autosummary::\n",
      "   :toctree: generated/\n",
      "\n",
      "   ppcc_max\n",
      "   ppcc_plot\n",
      "   probplot\n",
      "   boxcox_normplot\n",
      "   yeojohnson_normplot\n",
      "\n",
      "Univariate and multivariate kernel density estimation\n",
      "-----------------------------------------------------\n",
      "\n",
      ".. autosummary::\n",
      "   :toctree: generated/\n",
      "\n",
      "   gaussian_kde\n",
      "\n",
      "Warnings / Errors used in :mod:`scipy.stats`\n",
      "--------------------------------------------\n",
      "\n",
      ".. autosummary::\n",
      "   :toctree: generated/\n",
      "\n",
      "   DegenerateDataWarning\n",
      "   ConstantInputWarning\n",
      "   NearConstantInputWarning\n",
      "   FitError\n"
     ]
    },
    {
     "name": "stderr",
     "output_type": "stream",
     "text": [
      "/var/folders/p7/_ryqngjd3jn_ppndvnhdzqch0000gn/T/ipykernel_69235/3286860601.py:2: DeprecationWarning: scipy.info is deprecated and will be removed in SciPy 2.0.0, use numpy.info instead\n",
      "  sp.info(stats)\n"
     ]
    }
   ],
   "source": [
    "from scipy import stats\n",
    "sp.info(stats)"
   ]
  },
  {
   "cell_type": "markdown",
   "metadata": {},
   "source": [
    "## Benchmarking\n",
    "\n",
    "The **%%timeit** cell magic will execute the code in the cell and report the average time it took to execute it. "
   ]
  },
  {
   "cell_type": "code",
   "execution_count": 24,
   "metadata": {},
   "outputs": [],
   "source": [
    "fruits = [\"pomegranate\", \"cherry\", \"apricot\", \"date\", \"Apple\",\n",
    "\"lemon\", \"Kiwi\", \"ORANGE\", \"lime\", \"Watermelon\", \"guava\",\n",
    "\"Papaya\", \"FIG\", \"pear\", \"banana\", \"Tamarind\", \"Persimmon\",\n",
    "\"elderberry\", \"peach\", \"BLUEberry\", \"lychee\", \"GRAPE\" ]\n"
   ]
  },
  {
   "cell_type": "markdown",
   "metadata": {},
   "source": [
    "#### Benchmark with *for* loop"
   ]
  },
  {
   "cell_type": "code",
   "execution_count": 27,
   "metadata": {},
   "outputs": [
    {
     "name": "stdout",
     "output_type": "stream",
     "text": [
      "2.75 µs ± 65.1 ns per loop (mean ± std. dev. of 7 runs, 100000 loops each)\n"
     ]
    }
   ],
   "source": [
    "%%timeit 100\n",
    "f1 = []\n",
    "for f in fruits:\n",
    "    f1.append(f[:3])"
   ]
  },
  {
   "cell_type": "markdown",
   "metadata": {},
   "source": [
    "#### Benchmark with list comprehension"
   ]
  },
  {
   "cell_type": "code",
   "execution_count": 28,
   "metadata": {},
   "outputs": [
    {
     "name": "stdout",
     "output_type": "stream",
     "text": [
      "2.1 µs ± 18.6 ns per loop (mean ± std. dev. of 7 runs, 100000 loops each)\n"
     ]
    }
   ],
   "source": [
    "%%timeit 100\n",
    "f2 = [f[:3] for f in fruits]"
   ]
  },
  {
   "cell_type": "markdown",
   "metadata": {
    "collapsed": true
   },
   "source": [
    "## Images\n",
    "\n",
    "You can insert images into doc cells using the Markdown image tag:\n",
    "\n",
    "_The following uses a Markdown table to arrange the images._ \n",
    "\n",
    "| Guido        | Tim          | Wombat  |\n",
    "| ------------- |:-------------:| -----:|\n",
    "| ![Guido](images/guido.png)|  ![Tim](images/tim.jpg) |![wombat](images/wombat.jpg) |\n"
   ]
  },
  {
   "cell_type": "markdown",
   "metadata": {
    "collapsed": true
   },
   "source": [
    "### The limerick\n",
    "\n",
    "A dozen, a gross, and a score<br/>\n",
    "Plus three times the square root of four<br/>\n",
    "Divided by seven<br/>\n",
    "Plus five times eleven<br/>\n",
    "Is nine squared and not a bit more.<br/>\n"
   ]
  },
  {
   "cell_type": "code",
   "execution_count": null,
   "metadata": {},
   "outputs": [],
   "source": []
  }
 ],
 "metadata": {
  "kernelspec": {
   "display_name": "Python 3 (ipykernel)",
   "language": "python",
   "name": "python3"
  },
  "language_info": {
   "codemirror_mode": {
    "name": "ipython",
    "version": 3
   },
   "file_extension": ".py",
   "mimetype": "text/x-python",
   "name": "python",
   "nbconvert_exporter": "python",
   "pygments_lexer": "ipython3",
   "version": "3.9.12"
  }
 },
 "nbformat": 4,
 "nbformat_minor": 1
}
